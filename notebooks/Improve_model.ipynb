{
  "nbformat": 4,
  "nbformat_minor": 0,
  "metadata": {
    "colab": {
      "provenance": []
    },
    "kernelspec": {
      "name": "python3",
      "display_name": "Python 3"
    },
    "language_info": {
      "name": "python"
    }
  },
  "cells": [
    {
      "cell_type": "code",
      "execution_count": 3,
      "metadata": {
        "colab": {
          "base_uri": "https://localhost:8080/"
        },
        "id": "teDw_RIlb98V",
        "outputId": "9190cbc1-2419-46f2-fa38-1f570c1ee1de"
      },
      "outputs": [
        {
          "output_type": "stream",
          "name": "stdout",
          "text": [
            "\n",
            "Classification Report:\n",
            "\n",
            "              precision    recall  f1-score   support\n",
            "\n",
            "    negative       0.75      0.12      0.21        25\n",
            "     neutral       0.70      0.79      0.74        70\n",
            "    positive       0.72      0.83      0.77        76\n",
            "\n",
            "    accuracy                           0.71       171\n",
            "   macro avg       0.72      0.58      0.57       171\n",
            "weighted avg       0.71      0.71      0.67       171\n",
            "\n",
            "\n",
            "Confusion Matrix:\n",
            "\n",
            "[[ 3 11 11]\n",
            " [ 1 55 14]\n",
            " [ 0 13 63]]\n",
            "\n",
            "Model and vectorizer saved.\n"
          ]
        }
      ],
      "source": [
        "# install dependencies (quietly)\n",
        "!pip install scikit-learn pandas --quiet\n",
        "\n",
        "# 1. Import libraries\n",
        "import pandas as pd\n",
        "from sklearn.model_selection import train_test_split\n",
        "from sklearn.feature_extraction.text import TfidfVectorizer\n",
        "from sklearn.linear_model import LogisticRegression\n",
        "from sklearn.metrics import classification_report, confusion_matrix\n",
        "import joblib\n",
        "\n",
        "# 2. Load dataset\n",
        "df = pd.read_csv('/content/telecom_comments_sentiment.csv')\n",
        "\n",
        "# 🔹 Handle missing text values (important to avoid ValueError)\n",
        "df['clean_text'] = df['clean_text'].fillna('')   # replace NaN with empty string\n",
        "\n",
        "# 3. Separate features and labels\n",
        "X = df['clean_text']                # text column\n",
        "y = df['sentiment']                 # positive / neutral / negative\n",
        "\n",
        "# 4. Split into train/test sets\n",
        "X_train, X_test, y_train, y_test = train_test_split(\n",
        "    X, y, test_size=0.2, random_state=42, stratify=y\n",
        ")\n",
        "\n",
        "# 5. Vectorize text using TF-IDF\n",
        "vectorizer = TfidfVectorizer(max_features=5000, ngram_range=(1, 2))\n",
        "X_train_vec = vectorizer.fit_transform(X_train)\n",
        "X_test_vec = vectorizer.transform(X_test)\n",
        "\n",
        "# 6. Train logistic regression classifier\n",
        "clf = LogisticRegression(max_iter=1000)\n",
        "clf.fit(X_train_vec, y_train)\n",
        "\n",
        "# 7. Evaluate on test set\n",
        "y_pred = clf.predict(X_test_vec)\n",
        "print(\"\\nClassification Report:\\n\")\n",
        "print(classification_report(y_test, y_pred))\n",
        "print(\"\\nConfusion Matrix:\\n\")\n",
        "print(confusion_matrix(y_test, y_pred))\n",
        "\n",
        "# 8. Save model and vectorizer (optional)\n",
        "joblib.dump(clf, '/content/baseline_model.pkl')\n",
        "joblib.dump(vectorizer, '/content/tfidf_vectorizer.pkl')\n",
        "print(\"\\nModel and vectorizer saved.\")\n"
      ]
    },
    {
      "cell_type": "markdown",
      "source": [
        "# Install Needed Libraries"
      ],
      "metadata": {
        "id": "dcor9iE4gDNH"
      }
    },
    {
      "cell_type": "code",
      "source": [
        "!pip install imbalanced-learn --quiet\n"
      ],
      "metadata": {
        "id": "BmCPb3sHgF9I"
      },
      "execution_count": 4,
      "outputs": []
    },
    {
      "cell_type": "markdown",
      "source": [
        "# Oversample Negatives"
      ],
      "metadata": {
        "id": "Fzoc8SYugR06"
      }
    },
    {
      "cell_type": "code",
      "source": [
        "from sklearn.feature_extraction.text import TfidfVectorizer\n",
        "from sklearn.linear_model import LogisticRegression\n",
        "from imblearn.over_sampling import RandomOverSampler\n",
        "from sklearn.pipeline import Pipeline\n",
        "from sklearn.metrics import classification_report, confusion_matrix\n",
        "\n",
        "# 1. TF-IDF + Logistic Regression pipeline\n",
        "pipeline = Pipeline([\n",
        "    ('tfidf', TfidfVectorizer(max_features=5000, ngram_range=(1,2))),\n",
        "    ('clf', LogisticRegression(max_iter=1000))\n",
        "])\n",
        "\n",
        "# 2. Convert text to vectors manually before oversampling:\n",
        "X_train_text = X_train  # your training texts\n",
        "y_train_labels = y_train\n",
        "\n",
        "# We'll fit vectorizer separately to get numeric features\n",
        "vectorizer = TfidfVectorizer(max_features=5000, ngram_range=(1,2))\n",
        "X_train_vec = vectorizer.fit_transform(X_train_text)\n",
        "\n",
        "# 3. Oversample minority class\n",
        "ros = RandomOverSampler(random_state=42)\n",
        "X_resampled, y_resampled = ros.fit_resample(X_train_vec, y_train_labels)\n",
        "\n",
        "# 4. Train logistic regression on balanced data\n",
        "clf = LogisticRegression(max_iter=1000)\n",
        "clf.fit(X_resampled, y_resampled)\n",
        "\n",
        "# 5. Evaluate on test data\n",
        "X_test_vec = vectorizer.transform(X_test)\n",
        "y_pred = clf.predict(X_test_vec)\n",
        "\n",
        "print(classification_report(y_test, y_pred))\n",
        "print(confusion_matrix(y_test, y_pred))\n"
      ],
      "metadata": {
        "colab": {
          "base_uri": "https://localhost:8080/"
        },
        "id": "aPSm72AQgYP3",
        "outputId": "8f384b6d-b01b-4492-cc56-14f529a1666a"
      },
      "execution_count": 5,
      "outputs": [
        {
          "output_type": "stream",
          "name": "stdout",
          "text": [
            "              precision    recall  f1-score   support\n",
            "\n",
            "    negative       0.50      0.52      0.51        25\n",
            "     neutral       0.73      0.76      0.74        70\n",
            "    positive       0.78      0.74      0.76        76\n",
            "\n",
            "    accuracy                           0.71       171\n",
            "   macro avg       0.67      0.67      0.67       171\n",
            "weighted avg       0.72      0.71      0.71       171\n",
            "\n",
            "[[13  6  6]\n",
            " [ 7 53 10]\n",
            " [ 6 14 56]]\n"
          ]
        }
      ]
    },
    {
      "cell_type": "markdown",
      "source": [
        "# Impoved"
      ],
      "metadata": {
        "id": "B8zssSqYg99l"
      }
    },
    {
      "cell_type": "code",
      "source": [
        "import os\n",
        "import joblib\n",
        "\n",
        "# 🔹 Make sure the directory exists\n",
        "os.makedirs('/content/models', exist_ok=True)\n",
        "\n",
        "# 🔹 Save your objects\n",
        "joblib.dump(clf, '/content/models/model_balanced.pkl')\n",
        "joblib.dump(vectorizer, '/content/models/vectorizer_balanced.pkl')\n",
        "\n",
        "print(\"✅ Model and vectorizer saved successfully.\")\n"
      ],
      "metadata": {
        "colab": {
          "base_uri": "https://localhost:8080/"
        },
        "id": "lBAWuUvVhBv8",
        "outputId": "5be28ea6-b2d8-4ea1-cd55-a15be99797fc"
      },
      "execution_count": 8,
      "outputs": [
        {
          "output_type": "stream",
          "name": "stdout",
          "text": [
            "✅ Model and vectorizer saved successfully.\n"
          ]
        }
      ]
    }
  ]
}